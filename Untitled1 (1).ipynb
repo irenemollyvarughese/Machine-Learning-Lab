{
 "cells": [
  {
   "cell_type": "code",
   "execution_count": 7,
   "id": "eb36506a-63d6-489e-aac6-20799fe2bdc1",
   "metadata": {},
   "outputs": [
    {
     "name": "stdout",
     "output_type": "stream",
     "text": [
      "[1 2 3 4 5]\n",
      "1.26.4\n",
      "<class 'numpy.ndarray'>\n"
     ]
    }
   ],
   "source": [
    "#to print an array\n",
    "import numpy as np\n",
    "arr = np.array([1,2,3,4,5])\n",
    "print(arr)\n",
    "#to find the version of numpy\n",
    "print(np.__version__)\n",
    "#to find the type of array\n",
    "print(type(arr))"
   ]
  },
  {
   "cell_type": "code",
   "execution_count": 26,
   "id": "fec87a56-1b34-4ffa-b174-1f3d48f0adc2",
   "metadata": {},
   "outputs": [
    {
     "name": "stdout",
     "output_type": "stream",
     "text": [
      "[[1 2 3]\n",
      " [4 5 6]]\n",
      "2\n",
      "3\n",
      "[[[[[6 7 3 2 1]]]]]\n",
      "number of dimensions= 5\n"
     ]
    }
   ],
   "source": [
    "#matrix using numpy arrays\n",
    "import numpy as np\n",
    "arr = np.array([[1, 2, 3], [4, 5, 6]])\n",
    "print(arr)\n",
    "#ndim returns the dimension of the array 1d,2d or 3d\n",
    "a= np.array([[1,2,3],[4,5,6]])\n",
    "b= np.array([[[1,2],[3,4],[5,6]]])\n",
    "print(a.ndim)\n",
    "print(b.ndim)\n",
    "#you can set the dimension using ndmin\n",
    "arr1 = np.array([6,7,3,2,1], ndmin=5)\n",
    "print(arr1)\n",
    "print(\"number of dimensions=\",arr1.ndim)"
   ]
  },
  {
   "cell_type": "code",
   "execution_count": 32,
   "id": "acf28288-5540-48e1-9b03-67742aee6248",
   "metadata": {},
   "outputs": [
    {
     "name": "stdout",
     "output_type": "stream",
     "text": [
      "1\n",
      "2\n",
      "6\n",
      "second element in the first row 6\n"
     ]
    }
   ],
   "source": [
    "import numpy as np\n",
    "#array indexing and accessing elemnts of array\n",
    "arr= np.array([1,2,3,4,5])\n",
    "print(arr[0])\n",
    "print(arr[1])\n",
    "#adding and printing the elements in the array\n",
    "arr1= np.array([5,7,3,1,9])\n",
    "print(arr1[0]+arr1[3])\n",
    "arr2= np.array([[1,2,3,4,5],[6,7,8,9,10]])\n",
    "print(\"second element in the first row\",arr2[1,0])\n"
   ]
  },
  {
   "cell_type": "code",
   "execution_count": 46,
   "id": "38405913-d4da-49b1-a75d-cdbcd6278f47",
   "metadata": {},
   "outputs": [
    {
     "name": "stdout",
     "output_type": "stream",
     "text": [
      "[2 3 4 5]\n",
      "[1 2 3 4]\n",
      "[]\n",
      "<U6\n",
      "int32\n",
      "[b'5' b'6' b'3' b'7' b'1']\n",
      "|S1\n",
      "[1 2 3 4 5 6]\n",
      "[1 2 3 4 5 6]\n"
     ]
    }
   ],
   "source": [
    "import numpy as np\n",
    "#array slicing\n",
    "arr= np.array([1,2,3,4,5,6])\n",
    "print(arr[1:5])\n",
    "print(arr[:4])\n",
    "print(arr[-1:-3])\n",
    "#to print data type of elemnts dtype\n",
    "str = np.array(['apple','orange','grapes','banana'])\n",
    "print(str.dtype)\n",
    "print(arr.dtype)\n",
    "arr1 = np.array([5,6,3,7,1], dtype='S') \n",
    "#Creating an array: The line arr = np.array([1, 2, 3, 4], dtype='S') creates a NumPy array from a Python list containing the integers 1, 2, 3, and 4. The dtype='S' argument specifies that the data type of the array should be bytes (string) of fixed length. In this case, each integer will be converted to its byte representation.\n",
    "print(arr1)\n",
    "#Printing the array: The line print(arr) outputs the contents of the array. Since the integers are converted to bytes, you'll see something like b'1' b'2' b'3' b'4'.\n",
    "print(arr1.dtype)\n",
    "#copy \n",
    "x= arr.copy()\n",
    "print(x)\n",
    "#view\n",
    "y= x.view()\n",
    "print(y)\n",
    "#The shape of an array is the number of elements in each dimension.\n"
   ]
  },
  {
   "cell_type": "code",
   "execution_count": null,
   "id": "5681b91d-bcf6-4106-9e12-f26729c5b07d",
   "metadata": {},
   "outputs": [],
   "source": []
  },
  {
   "cell_type": "code",
   "execution_count": null,
   "id": "ae385d71-929f-4062-8e31-44a4d65af7e7",
   "metadata": {},
   "outputs": [],
   "source": []
  }
 ],
 "metadata": {
  "kernelspec": {
   "display_name": "Python 3 (ipykernel)",
   "language": "python",
   "name": "python3"
  },
  "language_info": {
   "codemirror_mode": {
    "name": "ipython",
    "version": 3
   },
   "file_extension": ".py",
   "mimetype": "text/x-python",
   "name": "python",
   "nbconvert_exporter": "python",
   "pygments_lexer": "ipython3",
   "version": "3.12.4"
  }
 },
 "nbformat": 4,
 "nbformat_minor": 5
}
