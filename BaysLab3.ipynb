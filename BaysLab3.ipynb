{
  "nbformat": 4,
  "nbformat_minor": 0,
  "metadata": {
    "colab": {
      "provenance": []
    },
    "kernelspec": {
      "name": "python3",
      "display_name": "Python 3"
    },
    "language_info": {
      "name": "python"
    }
  },
  "cells": [
    {
      "cell_type": "code",
      "execution_count": 16,
      "metadata": {
        "colab": {
          "base_uri": "https://localhost:8080/"
        },
        "id": "i45BEFBWjh4i",
        "outputId": "ce587262-e4d0-4732-b877-472fbe96d893"
      },
      "outputs": [
        {
          "output_type": "stream",
          "name": "stdout",
          "text": [
            "    Swim     Fly crawl ClassLabel\n",
            "0   fast      no    no       Fish\n",
            "1   fast      no   yes     Animal\n",
            "2   slow      no    no     Animal\n",
            "3   fast      no    no     Animal\n",
            "4     no   short    no       bird\n",
            "5     no   short    no       bird\n",
            "6     no  rarely    no     Animal\n",
            "7   slow      no   yes     Animal\n",
            "8   slow      no    no       Fish\n",
            "9   slow      no   yes       Fish\n",
            "10    no    long    no       bird\n",
            "11  fast      no    no       bird\n",
            "Predicted Class Label: Animal\n"
          ]
        }
      ],
      "source": [
        "import pandas as pd\n",
        "from sklearn.preprocessing import LabelEncoder\n",
        "from sklearn.naive_bayes import CategoricalNB\n",
        "data = {\n",
        "    'Swim':['fast','fast','slow','fast','no','no','no','slow','slow','slow','no','fast'],\n",
        "    'Fly' :['no','no','no','no','short','short','rarely','no','no','no','long','no'],\n",
        "    'crawl':['no','yes','no','no','no','no','no','yes','no','yes','no','no'],\n",
        "    'ClassLabel':['Fish','Animal','Animal','Animal','bird','bird','Animal','Animal','Fish','Fish','bird','bird']\n",
        "\n",
        "}\n",
        "#convert dataframe\n",
        "df= pd.DataFrame(data)\n",
        "print(df)\n",
        "#Encode categorical features and labels\n",
        "le_swim = LabelEncoder()\n",
        "le_fly = LabelEncoder()\n",
        "le_crawl = LabelEncoder()\n",
        "le_class = LabelEncoder()\n",
        "df['Swim'] = le_swim.fit_transform(df['Swim'])\n",
        "df['Fly'] = le_fly.fit_transform(df['Fly'])\n",
        "df['crawl'] = le_crawl.fit_transform(df['crawl'])\n",
        "df['ClassLabel'] = le_class.fit_transform(df['ClassLabel'])\n",
        "#split\n",
        "x= df[['Swim','Fly','crawl']]\n",
        "y= df['ClassLabel']\n",
        "#train\n",
        "model = CategoricalNB()\n",
        "model.fit(x,y)\n",
        "#classification\n",
        "Swim='slow'\n",
        "Fly='rarely'\n",
        "crawl='no'\n",
        "x=(Swim,Fly,crawl)\n",
        "test_instance = pd.DataFrame({\n",
        "    'Swim': [le_swim.transform(['slow'])[0]],\n",
        "    'Fly': [le_fly.transform(['rarely'])[0]],\n",
        "    'crawl': [le_crawl.transform(['no'])[0]]\n",
        "})\n",
        "#predict class label\n",
        "predicted_class_index = model.predict(test_instance)\n",
        "predicted_class_label = le_class.inverse_transform(predicted_class_index)\n",
        "print(\"Predicted Class Label:\", predicted_class_label[0])"
      ]
    },
    {
      "cell_type": "code",
      "source": [],
      "metadata": {
        "id": "gt5HjqIjxeTc"
      },
      "execution_count": 18,
      "outputs": []
    }
  ]
}